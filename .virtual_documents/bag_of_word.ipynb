














import pandas as pd
message=pd.read_csv("sms_spam_collection.csv")
message


# data cleanning  and preprocessing

import re
import nltk
nltk.download('stopword')


from nltk.corpus import stopwords
from nltk.stem.porter import PorterStemmer
ps=PorterStemmer()


corpus=[]
for i in range(0,len(message)):
    review = re.sub("[^a-zA-Z]", " ", message['message'][0])
    review=review.lower()
    review=review.split()
    review=[ps.stem(word) for word in review if not word in stopwords.words('english')]
    review=' '.join(review)
    corpus.append(review)

print(corpus)



# create output variable
from sklearn.feature_extraction.text import CountVectorizer
cv1=CountVectorizer(max_features=150,binary=True,)

x=cv1.fit_transform(corpus).toarray()
x


x.shape









