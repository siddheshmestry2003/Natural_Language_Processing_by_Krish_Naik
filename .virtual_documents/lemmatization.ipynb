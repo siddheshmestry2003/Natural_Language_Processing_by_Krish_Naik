


import nltk
nltk.download('punkt_tab')


from nltk.stem import WordNetLemmatizer
lemmatizer=WordNetLemmatizer()



lemmatizer=WordNetLemmatizer()



import nltk
nltk.download('wordnet')
nltk.download('omw-1.4')   # optional, improves lemmatization



'''
Common pos values in WordNet

'n' → noun

'v' → verb

'a' → adjective

'r' → adverb

'''


lemmatizer.lemmatize("going")


words = [
    "running", "runs", "runner", "easily", "fairness", 
    "connected", "connection", "connections", 
    "studies", "studying", "studied",
    "playing", "played", "plays",
    "better", "best", "goodness"
]


for word in words:
    print(word + " ---> " + lemmatizer.lemmatize(word, pos='v'))









