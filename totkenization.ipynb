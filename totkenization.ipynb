{
 "cells": [
  {
   "cell_type": "markdown",
   "id": "bc7abde7-fc66-49a3-a4c0-79b2e77b2722",
   "metadata": {},
   "source": [
    "## tokennization \n",
    "it is process of converting paragraph into sentence or sentence into words \n",
    "\n",
    "corpus=paragraph ,\n",
    "documentation=sentence ,\n",
    "vocabalry=unique words  ,\n",
    "words=total words ."
   ]
  },
  {
   "cell_type": "code",
   "execution_count": 2,
   "id": "b9dae519-d7ef-4c56-872e-0cf803ee50b1",
   "metadata": {},
   "outputs": [],
   "source": [
    "corpus=''' my name is siddhesh. my father name is santosh. my village name is kupavade. '''"
   ]
  },
  {
   "cell_type": "code",
   "execution_count": 4,
   "id": "a68b10b6-4c35-497c-9569-b6ab82ab683e",
   "metadata": {},
   "outputs": [
    {
     "name": "stderr",
     "output_type": "stream",
     "text": [
      "[nltk_data] Downloading package punkt_tab to\n",
      "[nltk_data]     C:\\Users\\siddh\\AppData\\Roaming\\nltk_data...\n",
      "[nltk_data]   Package punkt_tab is already up-to-date!\n"
     ]
    },
    {
     "data": {
      "text/plain": [
       "True"
      ]
     },
     "execution_count": 4,
     "metadata": {},
     "output_type": "execute_result"
    }
   ],
   "source": [
    "import nltk\n",
    "nltk.download('punkt_tab')"
   ]
  },
  {
   "cell_type": "code",
   "execution_count": 3,
   "id": "ef356896-4466-4c25-8210-acdc0b556532",
   "metadata": {},
   "outputs": [
    {
     "data": {
      "text/plain": [
       "[' my name is siddhesh.',\n",
       " 'my father name is santosh.',\n",
       " 'my village name is kupavade.']"
      ]
     },
     "execution_count": 3,
     "metadata": {},
     "output_type": "execute_result"
    }
   ],
   "source": [
    "# converting paragraph into sentence\n",
    "from nltk.tokenize import sent_tokenize\n",
    "\n",
    "document=sent_tokenize(corpus)\n",
    "document"
   ]
  },
  {
   "cell_type": "code",
   "execution_count": 5,
   "id": "cb685997-90ed-46d1-9736-b8a1b71482ae",
   "metadata": {},
   "outputs": [
    {
     "data": {
      "text/plain": [
       "list"
      ]
     },
     "execution_count": 5,
     "metadata": {},
     "output_type": "execute_result"
    }
   ],
   "source": [
    "type(document)"
   ]
  },
  {
   "cell_type": "code",
   "execution_count": 6,
   "id": "7d19127c-b5eb-4eeb-ae69-e01e5b6a0209",
   "metadata": {},
   "outputs": [
    {
     "name": "stdout",
     "output_type": "stream",
     "text": [
      " my name is siddhesh.\n",
      "my father name is santosh.\n",
      "my village name is kupavade.\n"
     ]
    }
   ],
   "source": [
    "for sent in document:\n",
    "    print(sent)"
   ]
  },
  {
   "cell_type": "code",
   "execution_count": 8,
   "id": "685a4e2e-8e5f-4cf8-9562-c8cf41867a68",
   "metadata": {},
   "outputs": [
    {
     "data": {
      "text/plain": [
       "['my',\n",
       " 'name',\n",
       " 'is',\n",
       " 'siddhesh',\n",
       " '.',\n",
       " 'my',\n",
       " 'father',\n",
       " 'name',\n",
       " 'is',\n",
       " 'santosh',\n",
       " '.',\n",
       " 'my',\n",
       " 'village',\n",
       " 'name',\n",
       " 'is',\n",
       " 'kupavade',\n",
       " '.']"
      ]
     },
     "execution_count": 8,
     "metadata": {},
     "output_type": "execute_result"
    }
   ],
   "source": [
    "## paragraph to words\n",
    "## sentence to words\n",
    "\n",
    "from nltk.tokenize import word_tokenize\n",
    "words=word_tokenize(corpus)\n",
    "words"
   ]
  },
  {
   "cell_type": "code",
   "execution_count": 17,
   "id": "fa31ca98-a8d0-4f74-a6d4-79ff32684069",
   "metadata": {},
   "outputs": [
    {
     "name": "stdout",
     "output_type": "stream",
     "text": [
      "['my', 'name', 'is', 'siddhesh', '.']\n",
      "['my', 'father', 'name', 'is', 'santosh', '.']\n",
      "['my', 'village', 'name', 'is', 'kupavade', '.']\n"
     ]
    }
   ],
   "source": [
    "for sent in document:\n",
    "    print(word_tokenize(sent))"
   ]
  },
  {
   "cell_type": "code",
   "execution_count": 13,
   "id": "28fcd0ac-f702-4301-9eaa-562f018a29c1",
   "metadata": {},
   "outputs": [
    {
     "data": {
      "text/plain": [
       "['my', 'village', 'name', 'is', 'kupavade', '.']"
      ]
     },
     "execution_count": 13,
     "metadata": {},
     "output_type": "execute_result"
    }
   ],
   "source": [
    "word=word_tokenize(sent)\n",
    "word"
   ]
  },
  {
   "cell_type": "code",
   "execution_count": null,
   "id": "23a71f68-15ce-4dce-9ae1-3d385e2b8c1a",
   "metadata": {},
   "outputs": [],
   "source": []
  },
  {
   "cell_type": "code",
   "execution_count": 15,
   "id": "2399829d-895e-4c70-b236-78c3c886d824",
   "metadata": {},
   "outputs": [
    {
     "data": {
      "text/plain": [
       "['my',\n",
       " 'name',\n",
       " 'is',\n",
       " 'siddhesh.',\n",
       " 'my',\n",
       " 'father',\n",
       " 'name',\n",
       " 'is',\n",
       " 'santosh.',\n",
       " 'my',\n",
       " 'village',\n",
       " 'name',\n",
       " 'is',\n",
       " 'kupavade',\n",
       " '.']"
      ]
     },
     "execution_count": 15,
     "metadata": {},
     "output_type": "execute_result"
    }
   ],
   "source": [
    "from nltk.tokenize import TreebankWordTokenizer\n",
    "token_tk=TreebankWordTokenizer()\n",
    "token_tk.tokenize(corpus)"
   ]
  },
  {
   "cell_type": "code",
   "execution_count": null,
   "id": "58379baa-df24-4d89-b9a8-a7d95813c874",
   "metadata": {},
   "outputs": [],
   "source": []
  }
 ],
 "metadata": {
  "kernelspec": {
   "display_name": "Python 3 (ipykernel)",
   "language": "python",
   "name": "python3"
  },
  "language_info": {
   "codemirror_mode": {
    "name": "ipython",
    "version": 3
   },
   "file_extension": ".py",
   "mimetype": "text/x-python",
   "name": "python",
   "nbconvert_exporter": "python",
   "pygments_lexer": "ipython3",
   "version": "3.13.5"
  }
 },
 "nbformat": 4,
 "nbformat_minor": 5
}
