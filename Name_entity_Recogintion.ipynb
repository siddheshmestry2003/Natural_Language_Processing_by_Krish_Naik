{
 "cells": [
  {
   "cell_type": "markdown",
   "id": "5628e5b0-4c7c-4a08-89b7-af5055306240",
   "metadata": {},
   "source": [
    "# Name Entity Recognition"
   ]
  },
  {
   "cell_type": "code",
   "execution_count": 4,
   "id": "d97dbb3e-ffe9-42c4-ad65-27c39bc6fdc3",
   "metadata": {},
   "outputs": [],
   "source": [
    "sentence = \"Barack Obama was born in Hawaii and served as President of the United States.\""
   ]
  },
  {
   "cell_type": "code",
   "execution_count": 3,
   "id": "9b3009c1-a3d0-40cd-87a8-9680a1002c7d",
   "metadata": {},
   "outputs": [
    {
     "data": {
      "text/plain": [
       "['Barack',\n",
       " 'Obama',\n",
       " 'was',\n",
       " 'born',\n",
       " 'in',\n",
       " 'Hawaii',\n",
       " 'and',\n",
       " 'served',\n",
       " 'as',\n",
       " 'President',\n",
       " 'of',\n",
       " 'the',\n",
       " 'United',\n",
       " 'States',\n",
       " '.']"
      ]
     },
     "execution_count": 3,
     "metadata": {},
     "output_type": "execute_result"
    }
   ],
   "source": [
    "from nltk.tokenize import word_tokenize\n",
    "word=word_tokenize(sentence)\n",
    "word"
   ]
  },
  {
   "cell_type": "code",
   "execution_count": 1,
   "id": "6a377614-b0f5-4e01-9460-6fd173a30715",
   "metadata": {},
   "outputs": [],
   "source": []
  },
  {
   "cell_type": "code",
   "execution_count": 2,
   "id": "4b2271c8-a9cc-4a6e-ac1c-0b9538919bb8",
   "metadata": {},
   "outputs": [
    {
     "data": {
      "text/plain": [
       "['Barack',\n",
       " 'Obama',\n",
       " 'was',\n",
       " 'born',\n",
       " 'in',\n",
       " 'Hawaii',\n",
       " 'and',\n",
       " 'served',\n",
       " 'as',\n",
       " 'President',\n",
       " 'of',\n",
       " 'the',\n",
       " 'United',\n",
       " 'States',\n",
       " '.']"
      ]
     },
     "execution_count": 2,
     "metadata": {},
     "output_type": "execute_result"
    }
   ],
   "source": [
    "import nltk\n",
    "nltk.word_tokenize(sentence)"
   ]
  },
  {
   "cell_type": "code",
   "execution_count": 9,
   "id": "3ce7d913-c2ec-40d2-8a5e-35a5c89d86a7",
   "metadata": {},
   "outputs": [
    {
     "data": {
      "text/plain": [
       "[('Barack', 'NNP'),\n",
       " ('Obama', 'NNP'),\n",
       " ('was', 'VBD'),\n",
       " ('born', 'VBN'),\n",
       " ('in', 'IN'),\n",
       " ('Hawaii', 'NNP'),\n",
       " ('and', 'CC'),\n",
       " ('served', 'VBD'),\n",
       " ('as', 'IN'),\n",
       " ('President', 'NNP'),\n",
       " ('of', 'IN'),\n",
       " ('the', 'DT'),\n",
       " ('United', 'NNP'),\n",
       " ('States', 'NNPS'),\n",
       " ('.', '.')]"
      ]
     },
     "execution_count": 9,
     "metadata": {},
     "output_type": "execute_result"
    }
   ],
   "source": [
    "tag_elements=nltk.pos_tag(word)\n",
    "tag_elements"
   ]
  },
  {
   "cell_type": "code",
   "execution_count": 15,
   "id": "ffc02537-3f6b-4f82-9ebc-0ea98e8f4f13",
   "metadata": {},
   "outputs": [
    {
     "name": "stderr",
     "output_type": "stream",
     "text": [
      "[nltk_data] Downloading package words to\n",
      "[nltk_data]     C:\\Users\\siddh\\AppData\\Roaming\\nltk_data...\n",
      "[nltk_data]   Unzipping corpora\\words.zip.\n"
     ]
    },
    {
     "data": {
      "text/plain": [
       "True"
      ]
     },
     "execution_count": 15,
     "metadata": {},
     "output_type": "execute_result"
    }
   ],
   "source": [
    "import nltk\n",
    "nltk.download('words')"
   ]
  },
  {
   "cell_type": "code",
   "execution_count": 14,
   "id": "d121aeba-0057-4670-9086-547e68ffc166",
   "metadata": {},
   "outputs": [
    {
     "name": "stderr",
     "output_type": "stream",
     "text": [
      "[nltk_data] Downloading package maxent_ne_chunker_tab to\n",
      "[nltk_data]     C:\\Users\\siddh\\AppData\\Roaming\\nltk_data...\n",
      "[nltk_data]   Package maxent_ne_chunker_tab is already up-to-date!\n"
     ]
    },
    {
     "data": {
      "text/plain": [
       "True"
      ]
     },
     "execution_count": 14,
     "metadata": {},
     "output_type": "execute_result"
    }
   ],
   "source": [
    "import nltk\n",
    "nltk.download('maxent_ne_chunker_tab')"
   ]
  },
  {
   "cell_type": "code",
   "execution_count": null,
   "id": "4297e502-8fcc-46e0-9a4b-0e33bf4ede6f",
   "metadata": {},
   "outputs": [],
   "source": [
    "nltk.ne_chunk(tag_elements).draw()"
   ]
  },
  {
   "cell_type": "code",
   "execution_count": null,
   "id": "08beb818-8412-4fdf-81f9-c805e14adfa1",
   "metadata": {},
   "outputs": [],
   "source": []
  }
 ],
 "metadata": {
  "kernelspec": {
   "display_name": "Python 3 (ipykernel)",
   "language": "python",
   "name": "python3"
  },
  "language_info": {
   "codemirror_mode": {
    "name": "ipython",
    "version": 3
   },
   "file_extension": ".py",
   "mimetype": "text/x-python",
   "name": "python",
   "nbconvert_exporter": "python",
   "pygments_lexer": "ipython3",
   "version": "3.13.5"
  }
 },
 "nbformat": 4,
 "nbformat_minor": 5
}
