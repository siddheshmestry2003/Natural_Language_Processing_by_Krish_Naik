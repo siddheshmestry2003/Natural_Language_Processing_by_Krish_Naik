{
 "cells": [
  {
   "cell_type": "markdown",
   "id": "21f4afa6",
   "metadata": {},
   "source": [
    "## wordner lemmatizer\n",
    "lemmatization technique is like stemming technique . the output we will get after lemmatization is called lemma. which is a root word . rather than root stem the output of stemming after lemmatization we wil be getting a valid word that menas the same thing"
   ]
  },
  {
   "cell_type": "code",
   "execution_count": 1,
   "id": "a8867ff1",
   "metadata": {},
   "outputs": [
    {
     "name": "stderr",
     "output_type": "stream",
     "text": [
      "[nltk_data] Downloading package punkt_tab to\n",
      "[nltk_data]     C:\\Users\\siddh\\AppData\\Roaming\\nltk_data...\n",
      "[nltk_data]   Package punkt_tab is already up-to-date!\n"
     ]
    },
    {
     "data": {
      "text/plain": [
       "True"
      ]
     },
     "execution_count": 1,
     "metadata": {},
     "output_type": "execute_result"
    }
   ],
   "source": [
    "import nltk\n",
    "nltk.download('punkt_tab')"
   ]
  },
  {
   "cell_type": "code",
   "execution_count": 3,
   "id": "fb53e6f7",
   "metadata": {},
   "outputs": [],
   "source": [
    "from nltk.stem import WordNetLemmatizer"
   ]
  },
  {
   "cell_type": "code",
   "execution_count": 4,
   "id": "09a8e02b",
   "metadata": {},
   "outputs": [],
   "source": [
    "lemmatizer=WordNetLemmatizer()\n"
   ]
  },
  {
   "cell_type": "code",
   "execution_count": 6,
   "id": "955d1ac5-8185-4c0a-9b99-6c73fab69d03",
   "metadata": {},
   "outputs": [
    {
     "name": "stderr",
     "output_type": "stream",
     "text": [
      "[nltk_data] Downloading package wordnet to\n",
      "[nltk_data]     C:\\Users\\siddh\\AppData\\Roaming\\nltk_data...\n",
      "[nltk_data] Downloading package omw-1.4 to\n",
      "[nltk_data]     C:\\Users\\siddh\\AppData\\Roaming\\nltk_data...\n"
     ]
    },
    {
     "data": {
      "text/plain": [
       "True"
      ]
     },
     "execution_count": 6,
     "metadata": {},
     "output_type": "execute_result"
    }
   ],
   "source": [
    "import nltk\n",
    "nltk.download('wordnet')\n",
    "nltk.download('omw-1.4')   # optional, improves lemmatization\n"
   ]
  },
  {
   "cell_type": "code",
   "execution_count": 7,
   "id": "8830013d-1d6c-4353-ab6e-854877ca0c3f",
   "metadata": {},
   "outputs": [
    {
     "data": {
      "text/plain": [
       "'going'"
      ]
     },
     "execution_count": 7,
     "metadata": {},
     "output_type": "execute_result"
    }
   ],
   "source": [
    "'''\n",
    "Common pos values in WordNet\n",
    "\n",
    "'n' → noun\n",
    "\n",
    "'v' → verb\n",
    "\n",
    "'a' → adjective\n",
    "\n",
    "'r' → adverb\n",
    "\n",
    "'''\n",
    "\n",
    "\n",
    "lemmatizer.lemmatize(\"going\")"
   ]
  },
  {
   "cell_type": "code",
   "execution_count": 8,
   "id": "8369c5ae-0a2a-4978-a35b-9265ef110863",
   "metadata": {},
   "outputs": [],
   "source": [
    "words = [\n",
    "    \"running\", \"runs\", \"runner\", \"easily\", \"fairness\", \n",
    "    \"connected\", \"connection\", \"connections\", \n",
    "    \"studies\", \"studying\", \"studied\",\n",
    "    \"playing\", \"played\", \"plays\",\n",
    "    \"better\", \"best\", \"goodness\"\n",
    "]"
   ]
  },
  {
   "cell_type": "code",
   "execution_count": 10,
   "id": "bf8cbadb-6862-46d8-a948-178e002178c3",
   "metadata": {},
   "outputs": [
    {
     "name": "stdout",
     "output_type": "stream",
     "text": [
      "running ---> run\n",
      "runs ---> run\n",
      "runner ---> runner\n",
      "easily ---> easily\n",
      "fairness ---> fairness\n",
      "connected ---> connect\n",
      "connection ---> connection\n",
      "connections ---> connections\n",
      "studies ---> study\n",
      "studying ---> study\n",
      "studied ---> study\n",
      "playing ---> play\n",
      "played ---> play\n",
      "plays ---> play\n",
      "better ---> better\n",
      "best ---> best\n",
      "goodness ---> goodness\n"
     ]
    }
   ],
   "source": [
    "for word in words:\n",
    "    print(word + \" ---> \" + lemmatizer.lemmatize(word, pos='v'))"
   ]
  },
  {
   "cell_type": "code",
   "execution_count": null,
   "id": "66906af1-c59e-4e6b-847e-6b3f07625c08",
   "metadata": {},
   "outputs": [],
   "source": []
  },
  {
   "cell_type": "code",
   "execution_count": null,
   "id": "3244be58-1103-4eb4-9f74-5c72fedfe7c2",
   "metadata": {},
   "outputs": [],
   "source": []
  },
  {
   "cell_type": "code",
   "execution_count": null,
   "id": "640ad626-4b0d-40e6-9bc2-ac61619ae83a",
   "metadata": {},
   "outputs": [],
   "source": []
  }
 ],
 "metadata": {
  "kernelspec": {
   "display_name": "Python 3 (ipykernel)",
   "language": "python",
   "name": "python3"
  },
  "language_info": {
   "codemirror_mode": {
    "name": "ipython",
    "version": 3
   },
   "file_extension": ".py",
   "mimetype": "text/x-python",
   "name": "python",
   "nbconvert_exporter": "python",
   "pygments_lexer": "ipython3",
   "version": "3.13.5"
  }
 },
 "nbformat": 4,
 "nbformat_minor": 5
}
