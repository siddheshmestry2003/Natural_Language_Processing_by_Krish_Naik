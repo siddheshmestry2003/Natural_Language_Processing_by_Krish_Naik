{
 "cells": [
  {
   "cell_type": "markdown",
   "id": "18dee9f7-af3e-47a7-b4b5-ab3937dd82f7",
   "metadata": {},
   "source": [
    "# Word Embedding\n",
    "\n",
    "### word embeddiing is a term used for the representaion of words for text analysis typically in the form of a real vlaued vector that encodes the meaning of the word such that the words that are close in the vector space expected to be similar in meaning"
   ]
  },
  {
   "cell_type": "markdown",
   "id": "172d2852-05fb-4d78-ba4f-d32c9df14caa",
   "metadata": {},
   "source": [
    "## types of word embedding\n",
    "\n",
    "### 1)count or frequency\n",
    "  #### OHE \n",
    "#### BoW\n",
    "#### TF=IDF\n",
    "\n",
    "### 2)Deep learning Train Model\n",
    " #### Word2Vec"
   ]
  },
  {
   "cell_type": "markdown",
   "id": "acf24df6-075c-4917-97b9-b20b0493efd1",
   "metadata": {},
   "source": [
    "### types of word1Vec\n",
    "\n",
    " #### 1)CBoW\n",
    "\n",
    "#### 2) SKYgram"
   ]
  },
  {
   "cell_type": "code",
   "execution_count": null,
   "id": "4b4962f4-8106-4dd3-93f8-fb940dd75318",
   "metadata": {},
   "outputs": [],
   "source": []
  }
 ],
 "metadata": {
  "kernelspec": {
   "display_name": "Python 3 (ipykernel)",
   "language": "python",
   "name": "python3"
  },
  "language_info": {
   "codemirror_mode": {
    "name": "ipython",
    "version": 3
   },
   "file_extension": ".py",
   "mimetype": "text/x-python",
   "name": "python",
   "nbconvert_exporter": "python",
   "pygments_lexer": "ipython3",
   "version": "3.13.5"
  }
 },
 "nbformat": 4,
 "nbformat_minor": 5
}
