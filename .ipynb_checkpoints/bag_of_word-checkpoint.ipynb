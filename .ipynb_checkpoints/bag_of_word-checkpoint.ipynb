{
 "cells": [
  {
   "cell_type": "markdown",
   "id": "5af3b344-56e1-469a-a42b-e6d5d3f19d5f",
   "metadata": {},
   "source": [
    "# bag_of_words"
   ]
  },
  {
   "cell_type": "raw",
   "id": "97fbc6fc-89d7-426e-bc32-aa273727452e",
   "metadata": {},
   "source": [
    "Step 1: Understanding Bag of Words\n",
    "\n",
    "The Bag of Words model represents text as a vector of word occurrences.\n",
    "\n",
    "It ignores grammar.\n",
    "\n",
    "It ignores word order.\n",
    "\n",
    "It only cares how many times a word appears.\n",
    "\n",
    "🔹 Step 2: Example Corpus\n",
    "\n",
    "Suppose we have two sentences (documents):\n",
    "\n",
    "Doc1: \"ChatGPT is smart\"\n",
    "\n",
    "Doc2: \"ChatGPT is helpful\"\n",
    "\n",
    "🔹 Step 3: Create Vocabulary\n",
    "\n",
    "List all unique words from the corpus:\n",
    "\n",
    "Vocabulary = {ChatGPT, is, smart, helpful}\n",
    "\n",
    "🔹 Step 4: Vector Representation\n",
    "\n",
    "Now, create a vector for each document.\n",
    "\n",
    "Order of vocabulary: [ChatGPT, is, smart, helpful]\n",
    "\n",
    "Doc1 → \"ChatGPT is smart\"\n",
    "\n",
    "ChatGPT → 1\n",
    "\n",
    "is → 1\n",
    "\n",
    "smart → 1\n",
    "\n",
    "helpful → 0\n",
    "👉 Vector = [1, 1, 1, 0]\n",
    "\n",
    "Doc2 → \"ChatGPT is helpful\"\n",
    "\n",
    "ChatGPT → 1\n",
    "\n",
    "is → 1\n",
    "\n",
    "smart → 0\n",
    "\n",
    "helpful → 1\n",
    "👉 Vector = [1, 1, 0, 1]\n",
    "\n",
    "🔹 Step 5: Matrix Form\n",
    "\n",
    "We can represent the whole corpus in a Bag of Words matrix:\n",
    "\n",
    "Document\tChatGPT\tis\tsmart\thelpful\n",
    "Doc1\t1\t1\t1\t0\n",
    "Doc2\t1\t1\t0\t1"
   ]
  },
  {
   "cell_type": "raw",
   "id": "b4ac71b8-7515-476a-b342-651dc217b3af",
   "metadata": {},
   "source": [
    "Step 1: Understanding Bag of Words\n",
    "\n",
    "The Bag of Words model represents text as a vector of word occurrences.\n",
    "\n",
    "It ignores grammar.\n",
    "\n",
    "It ignores word order.\n",
    "\n",
    "It only cares how many times a word appears.\n",
    "\n",
    "🔹 Step 2: Example Corpus\n",
    "\n",
    "Suppose we have two sentences (documents):\n",
    "\n",
    "Doc1: \"ChatGPT is smart\"\n",
    "\n",
    "Doc2: \"ChatGPT is helpful\"\n",
    "\n",
    "🔹 Step 3: Create Vocabulary\n",
    "\n",
    "List all unique words from the corpus:\n",
    "\n",
    "Vocabulary = {ChatGPT, is, smart, helpful}\n",
    "\n",
    "🔹 Step 4: Vector Representation\n",
    "\n",
    "Now, create a vector for each document.\n",
    "\n",
    "Order of vocabulary: [ChatGPT, is, smart, helpful]\n",
    "\n",
    "Doc1 → \"ChatGPT is smart\"\n",
    "\n",
    "ChatGPT → 1\n",
    "\n",
    "is → 1\n",
    "\n",
    "smart → 1\n",
    "\n",
    "helpful → 0\n",
    "👉 Vector = [1, 1, 1, 0]\n",
    "\n",
    "Doc2 → \"ChatGPT is helpful\"\n",
    "\n",
    "ChatGPT → 1\n",
    "\n",
    "is → 1\n",
    "\n",
    "smart → 0\n",
    "\n",
    "helpful → 1\n",
    "👉 Vector = [1, 1, 0, 1]\n",
    "\n",
    "🔹 Step 5: Matrix Form\n",
    "\n",
    "We can represent the whole corpus in a Bag of Words matrix:\n",
    "\n",
    "Document\tChatGPT\tis\tsmart\thelpful\n",
    "Doc1\t1\t1\t1\t0\n",
    "Doc2\t1\t1\t0\t1"
   ]
  },
  {
   "cell_type": "raw",
   "id": "30da6f8a-1f30-4496-9c44-97d9a4c4fc32",
   "metadata": {},
   "source": [
    "Step 1: Understanding Bag of Words\n",
    "\n",
    "The Bag of Words model represents text as a vector of word occurrences.\n",
    "\n",
    "It ignores grammar.\n",
    "\n",
    "It ignores word order.\n",
    "\n",
    "It only cares how many times a word appears.\n",
    "\n",
    "🔹 Step 2: Example Corpus\n",
    "\n",
    "Suppose we have two sentences (documents):\n",
    "\n",
    "Doc1: \"ChatGPT is smart\"\n",
    "\n",
    "Doc2: \"ChatGPT is helpful\"\n",
    "\n",
    "🔹 Step 3: Create Vocabulary\n",
    "\n",
    "List all unique words from the corpus:\n",
    "\n",
    "Vocabulary = {ChatGPT, is, smart, helpful}\n",
    "\n",
    "🔹 Step 4: Vector Representation\n",
    "\n",
    "Now, create a vector for each document.\n",
    "\n",
    "Order of vocabulary: [ChatGPT, is, smart, helpful]\n",
    "\n",
    "Doc1 → \"ChatGPT is smart\"\n",
    "\n",
    "ChatGPT → 1\n",
    "\n",
    "is → 1\n",
    "\n",
    "smart → 1\n",
    "\n",
    "helpful → 0\n",
    "👉 Vector = [1, 1, 1, 0]\n",
    "\n",
    "Doc2 → \"ChatGPT is helpful\"\n",
    "\n",
    "ChatGPT → 1\n",
    "\n",
    "is → 1\n",
    "\n",
    "smart → 0\n",
    "\n",
    "helpful → 1\n",
    "👉 Vector = [1, 1, 0, 1]\n",
    "\n",
    "🔹 Step 5: Matrix Form\n",
    "\n",
    "We can represent the whole corpus in a Bag of Words matrix:\n",
    "\n",
    "Document\tChatGPT\tis\tsmart\thelpful\n",
    "Doc1\t1\t1\t1\t0\n",
    "Doc2\t1\t1\t0\t1"
   ]
  },
  {
   "cell_type": "raw",
   "id": "6fe9c092-dceb-4343-a32a-c9478d6bb20c",
   "metadata": {},
   "source": [
    "# ==========================================================\n",
    "# Bag of Words – Advantages and Disadvantages\n",
    "# ==========================================================\n",
    "# Advantages                                  | Disadvantages\n",
    "# ------------------------------------------- | -----------------------------------------------\n",
    "# Simple and easy to implement                | Ignores word order (no context)\n",
    "# Works well for small datasets               | High dimensionality when vocabulary is large\n",
    "# Useful for basic NLP tasks                  | Sparse representation (most entries are 0)\n",
    "# Language independent                        | Ignores semantics (meaning of words)\n",
    "# Efficient with well-defined vocabulary      | Sensitive to stopwords (common words may dominate)\n",
    "# Provides a baseline for advanced NLP models | Limited scalability for large corpora\n",
    "# ==========================================================\n"
   ]
  },
  {
   "cell_type": "code",
   "execution_count": 7,
   "id": "a0ef6927-763d-44a5-bb6f-3d0d5271c41e",
   "metadata": {},
   "outputs": [
    {
     "data": {
      "text/html": [
       "<div>\n",
       "<style scoped>\n",
       "    .dataframe tbody tr th:only-of-type {\n",
       "        vertical-align: middle;\n",
       "    }\n",
       "\n",
       "    .dataframe tbody tr th {\n",
       "        vertical-align: top;\n",
       "    }\n",
       "\n",
       "    .dataframe thead th {\n",
       "        text-align: right;\n",
       "    }\n",
       "</style>\n",
       "<table border=\"1\" class=\"dataframe\">\n",
       "  <thead>\n",
       "    <tr style=\"text-align: right;\">\n",
       "      <th></th>\n",
       "      <th>label</th>\n",
       "      <th>message</th>\n",
       "    </tr>\n",
       "  </thead>\n",
       "  <tbody>\n",
       "    <tr>\n",
       "      <th>0</th>\n",
       "      <td>ham</td>\n",
       "      <td>Go until jurong point, crazy.. Available only ...</td>\n",
       "    </tr>\n",
       "    <tr>\n",
       "      <th>1</th>\n",
       "      <td>ham</td>\n",
       "      <td>Ok lar... Joking wif u oni...</td>\n",
       "    </tr>\n",
       "    <tr>\n",
       "      <th>2</th>\n",
       "      <td>spam</td>\n",
       "      <td>Free entry in 2 a wkly comp to win FA Cup fina...</td>\n",
       "    </tr>\n",
       "    <tr>\n",
       "      <th>3</th>\n",
       "      <td>ham</td>\n",
       "      <td>U dun say so early hor... U c already then say...</td>\n",
       "    </tr>\n",
       "    <tr>\n",
       "      <th>4</th>\n",
       "      <td>spam</td>\n",
       "      <td>Congratulations! You've won a $1000 Walmart gi...</td>\n",
       "    </tr>\n",
       "  </tbody>\n",
       "</table>\n",
       "</div>"
      ],
      "text/plain": [
       "  label                                            message\n",
       "0   ham  Go until jurong point, crazy.. Available only ...\n",
       "1   ham                      Ok lar... Joking wif u oni...\n",
       "2  spam  Free entry in 2 a wkly comp to win FA Cup fina...\n",
       "3   ham  U dun say so early hor... U c already then say...\n",
       "4  spam  Congratulations! You've won a $1000 Walmart gi..."
      ]
     },
     "execution_count": 7,
     "metadata": {},
     "output_type": "execute_result"
    }
   ],
   "source": [
    "import pandas as pd\n",
    "message=pd.read_csv(\"sms_spam_collection.csv\")\n",
    "message"
   ]
  },
  {
   "cell_type": "code",
   "execution_count": 8,
   "id": "b34a5766-3656-42de-8741-ae8855486c2c",
   "metadata": {},
   "outputs": [
    {
     "name": "stderr",
     "output_type": "stream",
     "text": [
      "[nltk_data] Error loading stopword: Package 'stopword' not found in\n",
      "[nltk_data]     index\n"
     ]
    },
    {
     "data": {
      "text/plain": [
       "False"
      ]
     },
     "execution_count": 8,
     "metadata": {},
     "output_type": "execute_result"
    }
   ],
   "source": [
    "# data cleanning  and preprocessing\n",
    "\n",
    "import re\n",
    "import nltk\n",
    "nltk.download('stopword')"
   ]
  },
  {
   "cell_type": "code",
   "execution_count": 9,
   "id": "8756cac1-f1d4-45d3-850f-deab1462a021",
   "metadata": {},
   "outputs": [],
   "source": [
    "from nltk.corpus import stopwords\n",
    "from nltk.stem.porter import PorterStemmer\n",
    "ps=PorterStemmer()"
   ]
  },
  {
   "cell_type": "code",
   "execution_count": 13,
   "id": "fbb07c85-460e-44eb-b992-b6a407d57008",
   "metadata": {},
   "outputs": [
    {
     "name": "stdout",
     "output_type": "stream",
     "text": [
      "['go jurong point crazi avail bugi n great world la e buffet', 'go jurong point crazi avail bugi n great world la e buffet', 'go jurong point crazi avail bugi n great world la e buffet', 'go jurong point crazi avail bugi n great world la e buffet', 'go jurong point crazi avail bugi n great world la e buffet']\n"
     ]
    }
   ],
   "source": [
    "corpus=[]\n",
    "for i in range(0,len(message)):\n",
    "    review = re.sub(\"[^a-zA-Z]\", \" \", message['message'][0])\n",
    "    review=review.lower()\n",
    "    review=review.split()\n",
    "    review=[ps.stem(word) for word in review if not word in stopwords.words('english')]\n",
    "    review=' '.join(review)\n",
    "    corpus.append(review)\n",
    "\n",
    "print(corpus)"
   ]
  },
  {
   "cell_type": "code",
   "execution_count": 29,
   "id": "4b626ce6-0811-447a-852f-e74490264b9b",
   "metadata": {},
   "outputs": [
    {
     "data": {
      "text/plain": [
       "array([[1, 1, 1, 1, 1, 1, 1, 1, 1, 1],\n",
       "       [1, 1, 1, 1, 1, 1, 1, 1, 1, 1],\n",
       "       [1, 1, 1, 1, 1, 1, 1, 1, 1, 1],\n",
       "       [1, 1, 1, 1, 1, 1, 1, 1, 1, 1],\n",
       "       [1, 1, 1, 1, 1, 1, 1, 1, 1, 1]])"
      ]
     },
     "execution_count": 29,
     "metadata": {},
     "output_type": "execute_result"
    }
   ],
   "source": [
    "\n",
    "# create output variable\n",
    "from sklearn.feature_extraction.text import CountVectorizer\n",
    "cv1=CountVectorizer(max_features=150,binary=True,)\n",
    "\n",
    "x=cv1.fit_transform(corpus).toarray()\n",
    "x"
   ]
  },
  {
   "cell_type": "code",
   "execution_count": 28,
   "id": "45ecd8b7-7f92-4dd3-8b83-55a1eb94e2ea",
   "metadata": {},
   "outputs": [
    {
     "data": {
      "text/plain": [
       "(5, 10)"
      ]
     },
     "execution_count": 28,
     "metadata": {},
     "output_type": "execute_result"
    }
   ],
   "source": [
    "x.shape"
   ]
  },
  {
   "cell_type": "code",
   "execution_count": null,
   "id": "0634fc1b-f9c0-479f-ae3f-b13c5ca35301",
   "metadata": {},
   "outputs": [],
   "source": []
  },
  {
   "cell_type": "code",
   "execution_count": null,
   "id": "d9aa39be-c54d-4bbe-9832-718f8d66059a",
   "metadata": {},
   "outputs": [],
   "source": []
  },
  {
   "cell_type": "code",
   "execution_count": null,
   "id": "4f05685b-a5ee-4c9c-9894-e19afa05dbf2",
   "metadata": {},
   "outputs": [],
   "source": []
  }
 ],
 "metadata": {
  "kernelspec": {
   "display_name": "Python 3 (ipykernel)",
   "language": "python",
   "name": "python3"
  },
  "language_info": {
   "codemirror_mode": {
    "name": "ipython",
    "version": 3
   },
   "file_extension": ".py",
   "mimetype": "text/x-python",
   "name": "python",
   "nbconvert_exporter": "python",
   "pygments_lexer": "ipython3",
   "version": "3.13.5"
  }
 },
 "nbformat": 4,
 "nbformat_minor": 5
}
