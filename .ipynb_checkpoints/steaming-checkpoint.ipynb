{
 "cells": [
  {
   "cell_type": "markdown",
   "id": "1beedcd4-8d21-48fe-a3ef-3c40e4605870",
   "metadata": {},
   "source": [
    "# stemming\n",
    "\n",
    "### semmming is the process of reducing a word to list word stem that affixes to suffixes and prefixes or to the roots of words lnown as a lemma .Stemming is important is natural lalnguage understanding and natual language processing\n"
   ]
  },
  {
   "cell_type": "markdown",
   "id": "ddad38ec-07a1-4d7e-8aa7-3afd367cc499",
   "metadata": {},
   "source": [
    "## use cases\n",
    "\n",
    "#### classification porblem\n",
    "### comments of product us a positive review or negative\n",
    "### reviews ----> eating,eat eaten, "
   ]
  },
  {
   "cell_type": "code",
   "execution_count": 1,
   "id": "8c37c735-637c-483a-8105-b702bdc6307e",
   "metadata": {},
   "outputs": [],
   "source": [
    "words = [\n",
    "    \"running\", \"runs\", \"runner\", \"easily\", \"fairness\", \n",
    "    \"connected\", \"connection\", \"connections\", \n",
    "    \"studies\", \"studying\", \"studied\",\n",
    "    \"playing\", \"played\", \"plays\",\n",
    "    \"better\", \"best\", \"goodness\"\n",
    "]"
   ]
  },
  {
   "cell_type": "markdown",
   "id": "bf519ee3-eac8-422a-bb60-81e848b68da6",
   "metadata": {},
   "source": [
    "### 1 porterStemmer"
   ]
  },
  {
   "cell_type": "code",
   "execution_count": 4,
   "id": "59fa67b6-ce6e-4d7c-9e8c-26ba57f3fc29",
   "metadata": {},
   "outputs": [],
   "source": [
    "from nltk.stem import PorterStemmer\n",
    "stemming=PorterStemmer()\n"
   ]
  },
  {
   "cell_type": "code",
   "execution_count": 6,
   "id": "5a84fa5f-3a79-4b25-aca8-571eda91468c",
   "metadata": {},
   "outputs": [
    {
     "name": "stdout",
     "output_type": "stream",
     "text": [
      "running ---> run\n",
      "runs ---> run\n",
      "runner ---> runner\n",
      "easily ---> easili\n",
      "fairness ---> fair\n",
      "connected ---> connect\n",
      "connection ---> connect\n",
      "connections ---> connect\n",
      "studies ---> studi\n",
      "studying ---> studi\n",
      "studied ---> studi\n",
      "playing ---> play\n",
      "played ---> play\n",
      "plays ---> play\n",
      "better ---> better\n",
      "best ---> best\n",
      "goodness ---> good\n"
     ]
    }
   ],
   "source": [
    "for word in words:\n",
    "    print(word + \" ---> \" + stemming.stem(word))"
   ]
  },
  {
   "cell_type": "markdown",
   "id": "e51a0366-5427-4180-952a-1c0ee87ee3b8",
   "metadata": {},
   "source": [
    "### the word generate in stemming are not always meaningfull"
   ]
  },
  {
   "cell_type": "code",
   "execution_count": null,
   "id": "31d4eb34-5616-448e-956b-4c4094d14db2",
   "metadata": {},
   "outputs": [],
   "source": []
  },
  {
   "cell_type": "markdown",
   "id": "1fcbb4f1-1cd9-4ab6-8883-152f01c85c05",
   "metadata": {},
   "source": [
    "# RegexpStemmer class\n"
   ]
  },
  {
   "cell_type": "code",
   "execution_count": 7,
   "id": "54b709f8-6824-4ef5-97bc-046148236405",
   "metadata": {},
   "outputs": [],
   "source": [
    "# In NLTK, the RegexpStemmer class is a type of stemmer that works using regular expressions instead of pre-built stemming rules (like Porter or Lancaster)."
   ]
  },
  {
   "cell_type": "code",
   "execution_count": 10,
   "id": "d1e13847-e58c-40c1-9494-255951d0939a",
   "metadata": {},
   "outputs": [
    {
     "data": {
      "text/plain": [
       "'eat'"
      ]
     },
     "execution_count": 10,
     "metadata": {},
     "output_type": "execute_result"
    }
   ],
   "source": [
    "from nltk.stem import RegexpStemmer\n",
    "reg_stemmer=RegexpStemmer('ing$|s$|e$|abl$',min=4)\n",
    "reg_stemmer.stem('eating')"
   ]
  },
  {
   "cell_type": "markdown",
   "id": "904e4f15-876f-445d-b191-de03da557765",
   "metadata": {},
   "source": [
    "\n",
    "\n",
    "# snowball stemmer"
   ]
  },
  {
   "cell_type": "raw",
   "id": "2d800035-b152-4505-9326-a447846f2bac",
   "metadata": {},
   "source": [
    "# The Snowball Stemmer (also called Porter2 Stemmer) is an improved version of the Porter Stemmer.\n",
    "It’s provided in NLTK under SnowballStemmer."
   ]
  },
  {
   "cell_type": "code",
   "execution_count": 12,
   "id": "48242da4-eec0-4312-b671-6cab86ebaeab",
   "metadata": {},
   "outputs": [],
   "source": [
    "from nltk.stem import SnowballStemmer\n"
   ]
  },
  {
   "cell_type": "code",
   "execution_count": 14,
   "id": "af394416-b799-405f-a306-2f7eae9cde06",
   "metadata": {},
   "outputs": [
    {
     "name": "stdout",
     "output_type": "stream",
     "text": [
      "running----> run\n",
      "runs----> run\n",
      "runner----> runner\n",
      "easily----> easili\n",
      "fairness----> fair\n",
      "connected----> connect\n",
      "connection----> connect\n",
      "connections----> connect\n",
      "studies----> studi\n",
      "studying----> studi\n",
      "studied----> studi\n",
      "playing----> play\n",
      "played----> play\n",
      "plays----> play\n",
      "better----> better\n",
      "best----> best\n",
      "goodness----> good\n"
     ]
    }
   ],
   "source": [
    "snowball_stem=SnowballStemmer('english')\n",
    "\n",
    "for word in words:\n",
    "    print(word+ \"----> \" + snowball_stem.stem(word))"
   ]
  },
  {
   "cell_type": "code",
   "execution_count": null,
   "id": "da99f8fb-745c-492c-a640-6e70011a5419",
   "metadata": {},
   "outputs": [],
   "source": []
  }
 ],
 "metadata": {
  "kernelspec": {
   "display_name": "Python 3 (ipykernel)",
   "language": "python",
   "name": "python3"
  },
  "language_info": {
   "codemirror_mode": {
    "name": "ipython",
    "version": 3
   },
   "file_extension": ".py",
   "mimetype": "text/x-python",
   "name": "python",
   "nbconvert_exporter": "python",
   "pygments_lexer": "ipython3",
   "version": "3.13.5"
  }
 },
 "nbformat": 4,
 "nbformat_minor": 5
}
