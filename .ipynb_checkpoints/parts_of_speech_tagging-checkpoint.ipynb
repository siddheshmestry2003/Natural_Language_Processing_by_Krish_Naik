{
 "cells": [
  {
   "cell_type": "markdown",
   "id": "92546958-ad36-4e1a-bb99-2c44c3f6258e",
   "metadata": {},
   "source": [
    "# parts of sppech tagging"
   ]
  },
  {
   "cell_type": "code",
   "execution_count": 1,
   "id": "f0691751-b446-4fb7-a05f-46cb9fe0d9ba",
   "metadata": {},
   "outputs": [],
   "source": [
    "speech='''\n",
    "r. A.P.J. Abdul Kalam, in his famous speech, shared his dream of transforming India into a developed nation through three powerful visions. His first vision was freedom. He reminded us that India had been under foreign rule for centuries, but today we enjoy independence after a long struggle. He urged every Indian to value this freedom, to live with dignity, and to never let our independence be compromised. His second vision was development. He believed that true freedom is incomplete without progress, and for that, India must move from being a developing nation to becoming a developed one. According to him, development should not only be in the field of science and technology but also in agriculture, industry, economy, and social equality, so that poverty and inequality are removed. His third vision was strength. Dr. Kalam said that only a strong nation—economically, technologically, and militarily—can remain peaceful and respected on the global stage, because strength respects strength. These three visions—freedom, development, and strength—together form the foundation of his dream for India, a nation that is proud, prosperous, and powerful.'''\n"
   ]
  },
  {
   "cell_type": "code",
   "execution_count": 11,
   "id": "02d1ceda-4d3f-44dd-a53c-0bd25424cac1",
   "metadata": {},
   "outputs": [
    {
     "data": {
      "text/plain": [
       "['\\nr. A.P.J.',\n",
       " 'Abdul Kalam, in his famous speech, shared his dream of transforming India into a developed nation through three powerful visions.',\n",
       " 'His first vision was freedom.',\n",
       " 'He reminded us that India had been under foreign rule for centuries, but today we enjoy independence after a long struggle.',\n",
       " 'He urged every Indian to value this freedom, to live with dignity, and to never let our independence be compromised.',\n",
       " 'His second vision was development.',\n",
       " 'He believed that true freedom is incomplete without progress, and for that, India must move from being a developing nation to becoming a developed one.',\n",
       " 'According to him, development should not only be in the field of science and technology but also in agriculture, industry, economy, and social equality, so that poverty and inequality are removed.',\n",
       " 'His third vision was strength.',\n",
       " 'Dr. Kalam said that only a strong nation—economically, technologically, and militarily—can remain peaceful and respected on the global stage, because strength respects strength.',\n",
       " 'These three visions—freedom, development, and strength—together form the foundation of his dream for India, a nation that is proud, prosperous, and powerful.']"
      ]
     },
     "execution_count": 11,
     "metadata": {},
     "output_type": "execute_result"
    }
   ],
   "source": [
    "import nltk\n",
    "from nltk.tokenize import sent_tokenize,word_tokenize\n",
    "from nltk.corpus import stopwords\n",
    "sentence=sent_tokenize(speech)\n",
    "sentence\n"
   ]
  },
  {
   "cell_type": "code",
   "execution_count": 13,
   "id": "c9536f7b-3528-4c8d-8ef0-c00812e1f41f",
   "metadata": {},
   "outputs": [
    {
     "name": "stderr",
     "output_type": "stream",
     "text": [
      "[nltk_data] Downloading package averaged_perceptron_tagger_eng to\n",
      "[nltk_data]     C:\\Users\\siddh\\AppData\\Roaming\\nltk_data...\n",
      "[nltk_data]   Unzipping taggers\\averaged_perceptron_tagger_eng.zip.\n"
     ]
    },
    {
     "data": {
      "text/plain": [
       "True"
      ]
     },
     "execution_count": 13,
     "metadata": {},
     "output_type": "execute_result"
    }
   ],
   "source": [
    "nltk.download('averaged_perceptron_tagger_eng')\n",
    "  "
   ]
  },
  {
   "cell_type": "code",
   "execution_count": 14,
   "id": "62615775-9210-4794-99c5-dcc17c6bc096",
   "metadata": {},
   "outputs": [
    {
     "name": "stdout",
     "output_type": "stream",
     "text": [
      "[('r.', 'NN'), ('A.P.J', 'NNP'), ('.', '.')]\n",
      "[('Abdul', 'NNP'), ('Kalam', 'NNP'), (',', ','), ('famous', 'JJ'), ('speech', 'NN'), (',', ','), ('shared', 'VBN'), ('dream', 'NN'), ('transforming', 'VBG'), ('India', 'NNP'), ('developed', 'VBD'), ('nation', 'NN'), ('three', 'CD'), ('powerful', 'JJ'), ('visions', 'NNS'), ('.', '.')]\n",
      "[('first', 'JJ'), ('vision', 'NN'), ('freedom', 'NN'), ('.', '.')]\n",
      "[('reminded', 'VBD'), ('us', 'PRP'), ('India', 'NNP'), ('foreign', 'JJ'), ('rule', 'NN'), ('centuries', 'NNS'), (',', ','), ('today', 'NN'), ('enjoy', 'VB'), ('independence', 'NN'), ('long', 'RB'), ('struggle', 'NN'), ('.', '.')]\n",
      "[('urged', 'VBN'), ('every', 'DT'), ('Indian', 'JJ'), ('value', 'NN'), ('freedom', 'NN'), (',', ','), ('live', 'JJ'), ('dignity', 'NN'), (',', ','), ('never', 'RB'), ('let', 'VB'), ('independence', 'NN'), ('compromised', 'VBN'), ('.', '.')]\n",
      "[('second', 'JJ'), ('vision', 'NN'), ('development', 'NN'), ('.', '.')]\n",
      "[('believed', 'VBN'), ('true', 'JJ'), ('freedom', 'NN'), ('incomplete', 'NN'), ('without', 'IN'), ('progress', 'NN'), (',', ','), (',', ','), ('India', 'NNP'), ('must', 'MD'), ('move', 'VB'), ('developing', 'VBG'), ('nation', 'NN'), ('becoming', 'VBG'), ('developed', 'VBD'), ('one', 'CD'), ('.', '.')]\n",
      "[('According', 'VBG'), (',', ','), ('development', 'NN'), ('field', 'NN'), ('science', 'NN'), ('technology', 'NN'), ('also', 'RB'), ('agriculture', 'NN'), (',', ','), ('industry', 'NN'), (',', ','), ('economy', 'NN'), (',', ','), ('social', 'JJ'), ('equality', 'NN'), (',', ','), ('poverty', 'NN'), ('inequality', 'NN'), ('removed', 'VBN'), ('.', '.')]\n",
      "[('third', 'JJ'), ('vision', 'NN'), ('strength', 'NN'), ('.', '.')]\n",
      "[('Dr.', 'NNP'), ('Kalam', 'NNP'), ('said', 'VBD'), ('strong', 'JJ'), ('nation—economically', 'RB'), (',', ','), ('technologically', 'RB'), (',', ','), ('militarily—can', 'JJ'), ('remain', 'VBP'), ('peaceful', 'JJ'), ('respected', 'VBN'), ('global', 'JJ'), ('stage', 'NN'), (',', ','), ('strength', 'NN'), ('respects', 'NNS'), ('strength', 'NN'), ('.', '.')]\n",
      "[('three', 'CD'), ('visions—freedom', 'NN'), (',', ','), ('development', 'NN'), (',', ','), ('strength—together', 'RB'), ('form', 'JJ'), ('foundation', 'NN'), ('dream', 'NN'), ('India', 'NNP'), (',', ','), ('nation', 'NN'), ('proud', 'NN'), (',', ','), ('prosperous', 'JJ'), (',', ','), ('powerful', 'JJ'), ('.', '.')]\n"
     ]
    }
   ],
   "source": [
    "## find out the pos tag\n",
    "\n",
    "for i in range(len(sentence)):\n",
    "    words = word_tokenize(sentence[i])\n",
    "    words = [word for word in words if word.lower() not in set(stopwords.words(\"english\"))]\n",
    "    #sentences[i] = \" \".join(words)\n",
    "    pos_tags=nltk.pos_tag(words)\n",
    "    print(pos_tags)\n",
    "    "
   ]
  },
  {
   "cell_type": "code",
   "execution_count": 17,
   "id": "621feb93-e1d4-4c26-8042-7eb4e43f99f4",
   "metadata": {},
   "outputs": [
    {
     "name": "stdout",
     "output_type": "stream",
     "text": [
      "[('Taj', 'NNP'), ('Mahal', 'NNP'), ('is', 'VBZ'), ('a', 'DT'), ('beautiful', 'JJ'), ('monument', 'NN')]\n"
     ]
    }
   ],
   "source": [
    "sentence = \"Taj Mahal is a beautiful monument\"\n",
    "\n",
    "# Tokenize the sentence\n",
    "tokens = word_tokenize(sentence)\n",
    "\n",
    "# Apply POS tagging\n",
    "tagged = nltk.pos_tag(tokens)\n",
    "\n",
    "# Display the result\n",
    "print(tagged)"
   ]
  },
  {
   "cell_type": "code",
   "execution_count": null,
   "id": "e264ca3b-d3ea-4078-8d64-3ee3558caf27",
   "metadata": {},
   "outputs": [],
   "source": []
  }
 ],
 "metadata": {
  "kernelspec": {
   "display_name": "Python 3 (ipykernel)",
   "language": "python",
   "name": "python3"
  },
  "language_info": {
   "codemirror_mode": {
    "name": "ipython",
    "version": 3
   },
   "file_extension": ".py",
   "mimetype": "text/x-python",
   "name": "python",
   "nbconvert_exporter": "python",
   "pygments_lexer": "ipython3",
   "version": "3.13.5"
  }
 },
 "nbformat": 4,
 "nbformat_minor": 5
}
