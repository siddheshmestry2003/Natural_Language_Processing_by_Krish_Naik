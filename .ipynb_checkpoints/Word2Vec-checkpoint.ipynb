{
 "cells": [
  {
   "cell_type": "markdown",
   "id": "89e18a35-565d-43c2-8640-98b5e855c586",
   "metadata": {},
   "source": [
    "# WordVec"
   ]
  },
  {
   "cell_type": "markdown",
   "id": "63eea089-cf68-445d-bd57-90d571669737",
   "metadata": {},
   "source": [
    " ### word2Vec is a technique for NLP in 2013. The word2vec algorithm uses a neural network model to learn word associatins from a large corpus of text .Once trained such ba model can detect synonyms words re suggest additions words for a partial sentence .As the naem implies ,wordvec represents ech distinct word with a particular lis t of numbers callled as vector"
   ]
  },
  {
   "cell_type": "code",
   "execution_count": null,
   "id": "86adc5d5-1429-4ea7-9321-f7ef41d4f266",
   "metadata": {},
   "outputs": [],
   "source": []
  }
 ],
 "metadata": {
  "kernelspec": {
   "display_name": "Python 3 (ipykernel)",
   "language": "python",
   "name": "python3"
  },
  "language_info": {
   "codemirror_mode": {
    "name": "ipython",
    "version": 3
   },
   "file_extension": ".py",
   "mimetype": "text/x-python",
   "name": "python",
   "nbconvert_exporter": "python",
   "pygments_lexer": "ipython3",
   "version": "3.13.5"
  }
 },
 "nbformat": 4,
 "nbformat_minor": 5
}
