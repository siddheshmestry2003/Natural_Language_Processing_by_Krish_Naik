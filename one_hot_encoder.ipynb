{
 "cells": [
  {
   "cell_type": "raw",
   "id": "bc7a2cc7-bd03-450b-9827-769e2a911596",
   "metadata": {},
   "source": [
    "📌 One-Hot Encoding (OHE)\n",
    "🔹 What is it?\n",
    "\n",
    "One-Hot Encoding is a technique used to convert categorical data (non-numeric values like words, labels, categories) into numeric vectors so that machine learning models can process them.\n",
    "\n",
    "Instead of assigning arbitrary numbers (like 1, 2, 3), which may imply order/priority, we represent each category as a binary vector (0s and 1s).\n",
    "\n",
    "🔹 How it Works\n",
    "\n",
    "Identify all unique categories (possible values).\n",
    "\n",
    "Create a vector for each category, where:\n",
    "\n",
    "1 indicates the presence of that category.\n",
    "\n",
    "0 indicates absence.\n",
    "\n",
    "🔹 Example 1: Colors\n",
    "\n",
    "Suppose we have categories:\n",
    "[\"Red\", \"Green\", \"Blue\"]\n",
    "\n",
    "One-Hot Encoding representation:\n",
    "\n",
    "Red → [1, 0, 0]\n",
    "\n",
    "Green → [0, 1, 0]\n",
    "\n",
    "Blue → [0, 0, 1]\n",
    "\n",
    "🔹 Example 2: Fruits\n",
    "\n",
    "Categories: [\"Apple\", \"Banana\", \"Mango\", \"Orange\"]\n",
    "\n",
    "Encoding:\n",
    "\n",
    "Fruit\tOne-Hot Vector\n",
    "Apple\t[1, 0, 0, 0]\n",
    "Banana\t[0, 1, 0, 0]\n",
    "Mango\t[0, 0, 1, 0]\n",
    "Orange\t[0, 0, 0, 1]\n",
    "🔹 Properties\n",
    "\n",
    "✅ No ordinal relationship assumed between categories (unlike label encoding).\n",
    "✅ Easy to interpret.\n",
    "❌ Produces sparse vectors (lots of zeros), especially when categories are many.\n",
    "❌ Increases dimensionality of data (curse of dimensionality)."
   ]
  }
 ],
 "metadata": {
  "kernelspec": {
   "display_name": "Python 3 (ipykernel)",
   "language": "python",
   "name": "python3"
  },
  "language_info": {
   "codemirror_mode": {
    "name": "ipython",
    "version": 3
   },
   "file_extension": ".py",
   "mimetype": "text/x-python",
   "name": "python",
   "nbconvert_exporter": "python",
   "pygments_lexer": "ipython3",
   "version": "3.13.5"
  }
 },
 "nbformat": 4,
 "nbformat_minor": 5
}
