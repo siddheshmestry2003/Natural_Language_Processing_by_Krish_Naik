{
 "cells": [
  {
   "cell_type": "markdown",
   "id": "89e18a35-565d-43c2-8640-98b5e855c586",
   "metadata": {},
   "source": [
    "# WordVec"
   ]
  },
  {
   "cell_type": "markdown",
   "id": "63eea089-cf68-445d-bd57-90d571669737",
   "metadata": {},
   "source": [
    " ### word2Vec is a technique for NLP in 2013. The word2vec algorithm uses a neural network model to learn word associatins from a large corpus of text .Once trained such ba model can detect synonyms words re suggest additions words for a partial sentence .As the naem implies ,wordvec represents ech distinct word with a particular lis t of numbers callled as vector"
   ]
  },
  {
   "cell_type": "markdown",
   "id": "029bf0ae-dbe0-4d7e-8c45-6a320a8bf417",
   "metadata": {},
   "source": [
    "## first use \n",
    "### pedefine google WordtoVec\n",
    "\n",
    "## then we train our own wordtVec algorithm from scratech using gensim library"
   ]
  },
  {
   "cell_type": "code",
   "execution_count": 1,
   "id": "e5a78101-2f02-47a4-977f-25fad3d6a7fe",
   "metadata": {},
   "outputs": [
    {
     "ename": "ModuleNotFoundError",
     "evalue": "No module named 'gensim'",
     "output_type": "error",
     "traceback": [
      "\u001b[1;31m---------------------------------------------------------------------------\u001b[0m",
      "\u001b[1;31mModuleNotFoundError\u001b[0m                       Traceback (most recent call last)",
      "Cell \u001b[1;32mIn[1], line 1\u001b[0m\n\u001b[1;32m----> 1\u001b[0m \u001b[38;5;28;01mfrom\u001b[39;00m\u001b[38;5;250m \u001b[39m\u001b[38;5;21;01mgensim\u001b[39;00m\u001b[38;5;21;01m.\u001b[39;00m\u001b[38;5;21;01mmodels\u001b[39;00m\u001b[38;5;250m \u001b[39m\u001b[38;5;28;01mimport\u001b[39;00m Word2Vec,KeyedVectors\n",
      "\u001b[1;31mModuleNotFoundError\u001b[0m: No module named 'gensim'"
     ]
    }
   ],
   "source": [
    "from gensim.models import Word2Vec,KeyedVectors"
   ]
  },
  {
   "cell_type": "code",
   "execution_count": null,
   "id": "3d60b445-7ac1-41bc-9df8-2197bb001a9c",
   "metadata": {},
   "outputs": [],
   "source": []
  }
 ],
 "metadata": {
  "kernelspec": {
   "display_name": "Python 3 (ipykernel)",
   "language": "python",
   "name": "python3"
  },
  "language_info": {
   "codemirror_mode": {
    "name": "ipython",
    "version": 3
   },
   "file_extension": ".py",
   "mimetype": "text/x-python",
   "name": "python",
   "nbconvert_exporter": "python",
   "pygments_lexer": "ipython3",
   "version": "3.13.5"
  }
 },
 "nbformat": 4,
 "nbformat_minor": 5
}
